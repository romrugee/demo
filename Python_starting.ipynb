{
  "nbformat": 4,
  "nbformat_minor": 0,
  "metadata": {
    "colab": {
      "name": "Python starting",
      "provenance": [],
      "authorship_tag": "ABX9TyO44wd821I+Ch0SQ7HfxwsG",
      "include_colab_link": true
    },
    "kernelspec": {
      "name": "python3",
      "display_name": "Python 3"
    }
  },
  "cells": [
    {
      "cell_type": "markdown",
      "metadata": {
        "id": "view-in-github",
        "colab_type": "text"
      },
      "source": [
        "<a href=\"https://colab.research.google.com/github/roomrugee/demo/blob/master/Python_starting.ipynb\" target=\"_parent\"><img src=\"https://colab.research.google.com/assets/colab-badge.svg\" alt=\"Open In Colab\"/></a>"
      ]
    },
    {
      "cell_type": "markdown",
      "metadata": {
        "id": "9yfOMOJ8lLDv",
        "colab_type": "text"
      },
      "source": [
        "# **โครงสร้างภาษา Python**"
      ]
    },
    {
      "cell_type": "code",
      "metadata": {
        "id": "ryPl_u38HvxX",
        "colab_type": "code",
        "outputId": "2a783659-002c-45e2-9a2a-3ee0f9f319eb",
        "colab": {
          "base_uri": "https://localhost:8080/",
          "height": 89
        }
      },
      "source": [
        "#Simple Python Program\n",
        "name =input('whatis you name? \\n')\n",
        "print ('Hi, %s.' %name)\n",
        "print ('Welcome to Python.')"
      ],
      "execution_count": 0,
      "outputs": [
        {
          "output_type": "stream",
          "text": [
            "whatis you name? \n",
            "Pone\n",
            "Hi, Pone.\n",
            "Welcome to Python.\n"
          ],
          "name": "stdout"
        }
      ]
    },
    {
      "cell_type": "code",
      "metadata": {
        "id": "OQ5tW_89HxJR",
        "colab_type": "code",
        "outputId": "9703cb0a-d76f-428c-9764-6d5f34379246",
        "colab": {
          "base_uri": "https://localhost:8080/",
          "height": 107
        }
      },
      "source": [
        "#Statemennt มีหลายคำสั่งในบรรทัดเดียว\n",
        "name1 = input('what is your name? \\n')\n",
        "print ('Hi, %s.' %name); print ('Welcome to Python.'); print ('Do you love it?')"
      ],
      "execution_count": 0,
      "outputs": [
        {
          "output_type": "stream",
          "text": [
            "what is your name? \n",
            "Pone\n",
            "Hi, Pone.\n",
            "Welcome to Python.\n",
            "Do you love it?\n"
          ],
          "name": "stdout"
        }
      ]
    },
    {
      "cell_type": "code",
      "metadata": {
        "id": "igFsJtb5JB-e",
        "colab_type": "code",
        "outputId": "4024338d-83ef-4170-a374-c47e34cc8539",
        "colab": {
          "base_uri": "https://localhost:8080/",
          "height": 290
        }
      },
      "source": [
        "#Indentation and while space (if else for)\n",
        " n = int(input('Input an integer: '))\n",
        " if (n>0):\n",
        "     print('x is positive number')\n",
        "     print('Show number from 0 to %d' %(n-1))\n",
        "else:\n",
        "    print('x is\\'t positive number') \n",
        "for i in range(n):\n",
        "    print(i)"
      ],
      "execution_count": 4,
      "outputs": [
        {
          "output_type": "stream",
          "text": [
            "Input an integer: 12\n",
            "x is positive number\n",
            "Show number from 0 to 11\n",
            "0\n",
            "1\n",
            "2\n",
            "3\n",
            "4\n",
            "5\n",
            "6\n",
            "7\n",
            "8\n",
            "9\n",
            "10\n",
            "11\n"
          ],
          "name": "stdout"
        }
      ]
    },
    {
      "cell_type": "code",
      "metadata": {
        "id": "fua-jyPQKmem",
        "colab_type": "code",
        "colab": {}
      },
      "source": [
        "#Literals\n",
        "a = 1\n",
        "b = -1.64E3\n",
        "c = True\n",
        "d = \"Python\"\n",
        "e = 'A'"
      ],
      "execution_count": 0,
      "outputs": []
    },
    {
      "cell_type": "code",
      "metadata": {
        "id": "-wEyQEw_JEZI",
        "colab_type": "code",
        "outputId": "08b29505-e5d9-49bc-d2c9-2037ddb93e84",
        "colab": {
          "base_uri": "https://localhost:8080/",
          "height": 199
        }
      },
      "source": [
        "#Expressions\n",
        "a = 4\n",
        "b = 5\n",
        "#Boolean expression\n",
        "print(a == 4)\n",
        "print(a == 5)\n",
        "print(a == 4 and b == 5)\n",
        "print(a == 4 and b == 8)\n",
        "print()\n",
        "#Non-boolean expression\n",
        "print(a + b)\n",
        "print(a + 2)\n",
        "print(a * b)\n",
        "print(((a * a) + (b * b)) / 2)\n",
        "print(\"Python \" + \"Language\")"
      ],
      "execution_count": 14,
      "outputs": [
        {
          "output_type": "stream",
          "text": [
            "True\n",
            "False\n",
            "True\n",
            "False\n",
            "\n",
            "9\n",
            "6\n",
            "20\n",
            "20.5\n",
            "Python Language\n"
          ],
          "name": "stdout"
        }
      ]
    },
    {
      "cell_type": "markdown",
      "metadata": {
        "id": "0AkvfRUxlYU2",
        "colab_type": "text"
      },
      "source": [
        "# **ตัวแปรและประเภทข้อมูล**"
      ]
    },
    {
      "cell_type": "code",
      "metadata": {
        "id": "mi8r8reiRouH",
        "colab_type": "code",
        "outputId": "bd0af067-7be3-4cb8-d79b-18d8ffe16dd5",
        "colab": {
          "base_uri": "https://localhost:8080/",
          "height": 107
        }
      },
      "source": [
        "a, b = 1, 2\n",
        "x = y = z = 10\n",
        "print('a = ' , a)\n",
        "print('b = ' , b)\n",
        "print(\"x = \" , x)\n",
        "print(\"y = \" , y)\n",
        "print(\"z = \" , z)"
      ],
      "execution_count": 0,
      "outputs": [
        {
          "output_type": "stream",
          "text": [
            "a =  1\n",
            "b =  2\n",
            "x =  10\n",
            "y =  10\n",
            "z =  10\n"
          ],
          "name": "stdout"
        }
      ]
    },
    {
      "cell_type": "code",
      "metadata": {
        "id": "65yJ04YYRqi7",
        "colab_type": "code",
        "outputId": "9ab9f3d1-8e55-4adb-a2f6-b248c7c36ddd",
        "colab": {
          "base_uri": "https://localhost:8080/",
          "height": 199
        }
      },
      "source": [
        "#Numbers\n",
        "\n",
        "#Integer ใช้ %d แสดงผลในรูปแบบ Stirng format กับฟังก์ชั่น print()\n",
        "#การหารตัวเลขใน Python จะได้ค่าเป็น float เสมอ\n",
        "a = 7\n",
        "b = 3\n",
        "c = a + b\n",
        "d = a / b\n",
        "\n",
        "print('a = %d' % a)\n",
        "print('b = %d' % b)\n",
        "print('c = %d' % c)\n",
        "print('d = ' , d)\n",
        "\n",
        "print()\n",
        "#Float point number\n",
        "speed = 34.12\n",
        "pi = 22 / 7\n",
        "height = 2.3E5\n",
        "length = 1.3E-3\n",
        "\n",
        "print('speed = %f' % speed)\n",
        "print('pi = %f' % pi)\n",
        "print('height = %f' % height)\n",
        "print('length = %f' % length)\n",
        "print(pi)\n"
      ],
      "execution_count": 13,
      "outputs": [
        {
          "output_type": "stream",
          "text": [
            "a = 7\n",
            "b = 3\n",
            "c = 10\n",
            "d =  2.3333333333333335\n",
            "\n",
            "speed = 34.120000\n",
            "pi = 3.142857\n",
            "height = 230000.000000\n",
            "length = 0.001300\n",
            "3.142857142857143\n"
          ],
          "name": "stdout"
        }
      ]
    },
    {
      "cell_type": "code",
      "metadata": {
        "id": "5__OB22VRrFG",
        "colab_type": "code",
        "outputId": "80b4a8a2-f0b0-43bd-cd15-7bbca13e18b8",
        "colab": {
          "base_uri": "https://localhost:8080/",
          "height": 145
        }
      },
      "source": [
        "#Strings\n",
        "\n",
        "name3 = \"Rpmrugee\"\n",
        "country = \"Thailand\"\n",
        "language = 'Python'\n",
        "interest = 'Mountain Everest'\n",
        "\n",
        "#ใช้เหมือนกันแต่\n",
        "\n",
        "sentence1 = \"What's your name?\"\n",
        "sentence2 = 'I\\'m Romrugee'\n",
        "sentence3 = \"He said \\\"I would learn Python first\\\".\"\n",
        "sentence4 = 'His teach replied \"Oh well!\" '\n",
        "print(sentence1)\n",
        "print(sentence2)\n",
        "print(sentence3)\n",
        "print(sentence4)\n",
        "print()\n",
        "\n",
        "site = 'python' + '.com'\n",
        "tutorial = 'Python' 'Languege'\n",
        "print(site)\n",
        "print(tutorial)"
      ],
      "execution_count": 15,
      "outputs": [
        {
          "output_type": "stream",
          "text": [
            "What's your name?\n",
            "I'm Romrugee\n",
            "He said \"I would learn Python first\".\n",
            "His teach replied \"Oh well!\" \n",
            "\n",
            "python.com\n",
            "PythonLanguege\n"
          ],
          "name": "stdout"
        }
      ]
    },
    {
      "cell_type": "code",
      "metadata": {
        "id": "kCV-FwFyRrge",
        "colab_type": "code",
        "outputId": "7ea056d6-6354-45f0-957a-23be8067ffdf",
        "colab": {
          "base_uri": "https://localhost:8080/",
          "height": 125
        }
      },
      "source": [
        "#Lists\n",
        "\n",
        "#Declare lists\n",
        "numbers = [1, 2, 4, 6, 8, 19]\n",
        "names = [\"RO\", \"RU\", \"GEE\", \"TH\", \"ONG\"]\n",
        "mixed = [-2, 5, 84.2, \"Moutain\", \"Python\"]\n",
        "#Diaplay lists\n",
        "print(numbers)\n",
        "print(names)\n",
        "print(mixed)\n",
        "\n",
        "#Display lists using the for loops\n",
        "for n in numbers:\n",
        "    print(n, end = \" \")\n",
        "print()\n",
        "\n",
        "for n in names:\n",
        "    print(n, end= \" \")\n",
        "print()\n",
        "\n",
        "for n in mixed:\n",
        "    print(n, end= \" \")\n",
        "print()"
      ],
      "execution_count": 0,
      "outputs": [
        {
          "output_type": "stream",
          "text": [
            "[1, 2, 4, 6, 8, 19]\n",
            "['RO', 'RU', 'GEE', 'TH', 'ONG']\n",
            "[-2, 5, 84.2, 'Moutain', 'Python']\n",
            "1 2 4 6 8 19 \n",
            "RO RU GEE TH ONG \n",
            "-2 5 84.2 Moutain Python \n"
          ],
          "name": "stdout"
        }
      ]
    },
    {
      "cell_type": "code",
      "metadata": {
        "id": "7EhgDg2aRr_P",
        "colab_type": "code",
        "colab": {
          "base_uri": "https://localhost:8080/",
          "height": 72
        },
        "outputId": "59a7e48e-afba-465f-c0e7-22f22d435ddb"
      },
      "source": [
        "languages = [\"c\", \"C+\", \"Java\", \"Python\", \"PHP\"]\n",
        "\n",
        "print(\"Index at 0 = \", languages[0])\n",
        "print(\"Index at 3 = \", languages[3])\n",
        "languages[0] = \"Scalar\"\n",
        "print(\"Index at 0 = \", languages[0])"
      ],
      "execution_count": 6,
      "outputs": [
        {
          "output_type": "stream",
          "text": [
            "Index at 0 =  c\n",
            "Index at 3 =  Python\n",
            "Index at 0 =  Scalar\n"
          ],
          "name": "stdout"
        }
      ]
    },
    {
      "cell_type": "code",
      "metadata": {
        "id": "b4M0RQW9RstF",
        "colab_type": "code",
        "colab": {
          "base_uri": "https://localhost:8080/",
          "height": 199
        },
        "outputId": "e7a6e026-087f-4604-d511-2a198f2bdbfb"
      },
      "source": [
        "import sys\n",
        "\n",
        "a = 8\n",
        "b = 13.4\n",
        "c = \"Python\"\n",
        "d = [1, 2, 3, 4]\n",
        "\n",
        "print('Size of a = ', sys.getsizeof(a)) #function getsizeof() indent size in Byte\n",
        "print('Type of a = ', type(a)) \n",
        "\n",
        "print('Size of b = ', sys.getsizeof(b))\n",
        "print('Type of b = ', type(b))\n",
        "\n",
        "print('Size of c = ', sys.getsizeof(c))\n",
        "print('Type of c =', type(c))\n",
        "\n",
        "print('Size of d = ', sys.getsizeof(d))\n",
        "print('Type of d = ', type(d))\n",
        "print()\n",
        "\n",
        "del a           #ยกเลิกหรือลบการประกาศตัวแปรออกไปจากหน่วยความจำ\n",
        "del b, c, d\n",
        "\n",
        "if 'a' in locals():     #ตรวจสอบว่าตัวแปรถูกประกาศหรือยัง locals() ตรวจเฉพาะ module ปัจจุบัน ส่วน globals() ตรวจสอบตัวแปรในโปรแกรมทั้งหมด \n",
        "    print(\"a is exist\")\n",
        "else:\n",
        "    print(\"a is not exist\")"
      ],
      "execution_count": 29,
      "outputs": [
        {
          "output_type": "stream",
          "text": [
            "Size of a =  28\n",
            "Type of a =  <class 'int'>\n",
            "Size of b =  24\n",
            "Type of b =  <class 'float'>\n",
            "Size of c =  55\n",
            "Type of c = <class 'str'>\n",
            "Size of d =  96\n",
            "Type of d =  <class 'list'>\n",
            "\n",
            "a is not exist\n"
          ],
          "name": "stdout"
        }
      ]
    },
    {
      "cell_type": "markdown",
      "metadata": {
        "id": "cw1hFHpElwgp",
        "colab_type": "text"
      },
      "source": [
        "#**การรับค่าและการแสดงผล**"
      ]
    },
    {
      "cell_type": "code",
      "metadata": {
        "id": "vzjLFrg1RtTx",
        "colab_type": "code",
        "colab": {
          "base_uri": "https://localhost:8080/",
          "height": 145
        },
        "outputId": "c3973e7b-6ae0-48d5-f73a-146ba9cdc997"
      },
      "source": [
        "#print() Function\n",
        "print(\"Banana\", \"Apple\", \"Kiwi\")\n",
        "print(\"One\")\n",
        "print(\"Two\")\n",
        "print(\"Three\")\n",
        "\n",
        "print()\n",
        "\n",
        "#print(value,...,sep='',end='\\n'); ค่า default\n",
        "print(\"Banana\", \"Apple\", \"Kiwi\", sep=', ')\n",
        "print(\"One\", end=' ')\n",
        "print(\"Two\", end=' ')\n",
        "print(\"Three\", end=' ')"
      ],
      "execution_count": 30,
      "outputs": [
        {
          "output_type": "stream",
          "text": [
            "Banana Apple Kiwi\n",
            "One\n",
            "Two\n",
            "Three\n",
            "\n",
            "Banana, Apple, Kiwi\n",
            "One Two Three "
          ],
          "name": "stdout"
        }
      ]
    },
    {
      "cell_type": "code",
      "metadata": {
        "id": "ex5zgxATRt1H",
        "colab_type": "code",
        "colab": {
          "base_uri": "https://localhost:8080/",
          "height": 90
        },
        "outputId": "935132e6-63cf-4eaf-e4c5-6912dae355cf"
      },
      "source": [
        "lang = \"Python\"\n",
        "version = 3.8\n",
        "print(\"%s language\" % lang)\n",
        "print(\"Version %f\" % version)\n",
        "print(\"%d\" %123)\n",
        "print(\"%s %f %d\" % (lang, version, 123))\n"
      ],
      "execution_count": 28,
      "outputs": [
        {
          "output_type": "stream",
          "text": [
            "Python language\n",
            "Version 3.800000\n",
            "123\n",
            "Python 3.800000 123\n"
          ],
          "name": "stdout"
        }
      ]
    },
    {
      "cell_type": "code",
      "metadata": {
        "id": "i3eJFV85RpsK",
        "colab_type": "code",
        "colab": {}
      },
      "source": [
        "#Response in HTML \n",
        "print('<!DOCTYPE html>');\n",
        "print('<html>');\n",
        "print('<body>');\n",
        "print('<h1> Welcome to Python </h1>');\n",
        "print('</body>');\n",
        "print('</html>');"
      ],
      "execution_count": 0,
      "outputs": []
    },
    {
      "cell_type": "code",
      "metadata": {
        "id": "cWdWFKDQJF2k",
        "colab_type": "code",
        "colab": {
          "base_uri": "https://localhost:8080/",
          "height": 108
        },
        "outputId": "670dd7ab-2ab4-411d-bcab-a00e6b245d74"
      },
      "source": [
        "#การรับค่าจาก Keybord ด้วย input()\n",
        "\n",
        "#String\n",
        "name4 = input(\"Enter your name: \")\n",
        "print(\"Hello \" + name4)\n",
        "\n",
        "#Number\n",
        "a = int(input(\"Enter first number: \"))\n",
        "b = int(input(\"Enter second number: \"))\n",
        "print(\"a + b = %d\" % (a + b))"
      ],
      "execution_count": 35,
      "outputs": [
        {
          "output_type": "stream",
          "text": [
            "Enter your name: pp\n",
            "Hello pp\n",
            "Enter first number: 19\n",
            "Enter second number: 32\n",
            "a + b = 51\n"
          ],
          "name": "stdout"
        }
      ]
    },
    {
      "cell_type": "markdown",
      "metadata": {
        "id": "6BkIW1OYofjV",
        "colab_type": "text"
      },
      "source": [
        "# **ตัวดำเนินการใน Python**"
      ]
    },
    {
      "cell_type": "markdown",
      "metadata": {
        "id": "ZOe6FiDlorE2",
        "colab_type": "text"
      },
      "source": [
        "## **Assignment operator**"
      ]
    },
    {
      "cell_type": "markdown",
      "metadata": {
        "id": "5H77Pv3tpCck",
        "colab_type": "text"
      },
      "source": [
        "คือการกำหนดค่า ด้วย (=)"
      ]
    },
    {
      "cell_type": "markdown",
      "metadata": {
        "id": "SQSbfPE2phmR",
        "colab_type": "text"
      },
      "source": [
        "## **Arithmetic operator**"
      ]
    },
    {
      "cell_type": "code",
      "metadata": {
        "id": "SDp-w6L1puS8",
        "colab_type": "code",
        "colab": {
          "base_uri": "https://localhost:8080/",
          "height": 108
        },
        "outputId": "fdc8d0c3-8cc9-4d42-95fa-da3869dc0c30"
      },
      "source": [
        "a = 5\n",
        "b = 3\n",
        "print(\"a * b = \", a * b)\n",
        "print(\"a / b = \", a / b)\n",
        "print(\"a ** b = \", a ** b)\n",
        "print(\"a // b = \", a // b)\n",
        "print(\"a % b = \", a % b)"
      ],
      "execution_count": 37,
      "outputs": [
        {
          "output_type": "stream",
          "text": [
            "a * b =  15\n",
            "a / b =  1.6666666666666667\n",
            "a ** b =  125\n",
            "a // b =  1\n",
            "a % b =  2\n"
          ],
          "name": "stdout"
        }
      ]
    },
    {
      "cell_type": "markdown",
      "metadata": {
        "id": "ZLtGDJ3frAil",
        "colab_type": "text"
      },
      "source": [
        "## **Comparison operators**"
      ]
    },
    {
      "cell_type": "code",
      "metadata": {
        "id": "IxdiMTSWrJKy",
        "colab_type": "code",
        "colab": {
          "base_uri": "https://localhost:8080/",
          "height": 199
        },
        "outputId": "b3a6ced8-d235-481c-c3e4-16430aebf933"
      },
      "source": [
        "#Constant comparison\n",
        "print('4 == 4 : ', 4 == 4)\n",
        "print('1 < 2 : ', 1 < 2)\n",
        "print('3 > 10 : ', 3 > 10)\n",
        "print('2 <= 1.5 : ', 2 <= 1.5)\n",
        "print()\n",
        "\n",
        "#Variable comparison\n",
        "a = 10\n",
        "b = 8\n",
        "print('a != b : ', a != b)\n",
        "print('a - b == 2 : ', a - b == 2)\n",
        "print()\n",
        "\n",
        "e = 10\n",
        "f = e\n",
        "f = 20\n",
        "print(e)\n",
        "print(f)"
      ],
      "execution_count": 39,
      "outputs": [
        {
          "output_type": "stream",
          "text": [
            "4 == 4 :  True\n",
            "1 < 2 :  True\n",
            "3 > 10 :  False\n",
            "2 <= 1.5 :  False\n",
            "\n",
            "a != b :  True\n",
            "a - b == 2 :  True\n",
            "\n",
            "10\n",
            "20\n"
          ],
          "name": "stdout"
        }
      ]
    },
    {
      "cell_type": "code",
      "metadata": {
        "id": "04gB0OWgs5Lm",
        "colab_type": "code",
        "colab": {
          "base_uri": "https://localhost:8080/",
          "height": 199
        },
        "outputId": "ee933901-64e6-4d0a-989f-a1c69d0b8623"
      },
      "source": [
        "class Person:\n",
        "    def __init__(self, name):\n",
        "        self.name = name\n",
        "    def setName(self, name):\n",
        "        self.name = name\n",
        "    def getName(self):\n",
        "        return self.name\n",
        "\n",
        "p1 = Person('Tommy')\n",
        "p2 = Person('Jane')\n",
        "#Tell p3 use memory address of p1\n",
        "p3 = p1 #same object \n",
        "\n",
        "print('Memory address of a: ', id(p1)) #id() check memory of object\n",
        "print('Memory address of b: ', id(p2))\n",
        "print('Memory address of c: ', id(p3))\n",
        "\n",
        "print('p1 name:', p1.getName())\n",
        "print('p3 name:', p1.getName())\n",
        "\n",
        "print('Changed p3 name to \\'Tom\\'')\n",
        "p3.setName('Tom')\n",
        "print('p1 name:', p1.getName())\n",
        "print('p3 name:', p3.getName()) \n",
        "\n",
        "print('p1 is p2:', p1 is p2)\n",
        "print('p1 is p3:', p1 is p3)#same object with p1"
      ],
      "execution_count": 46,
      "outputs": [
        {
          "output_type": "stream",
          "text": [
            "Memory address of a:  140048691716840\n",
            "Memory address of b:  140048691716672\n",
            "Memory address of c:  140048691716840\n",
            "p1 name: Tommy\n",
            "p3 name: Tommy\n",
            "Changed p3 name to 'Tom'\n",
            "p1 name: Tom\n",
            "p3 name: Tom\n",
            "p1 is p2: False\n",
            "p1 is p3: True\n"
          ],
          "name": "stdout"
        }
      ]
    }
  ]
}