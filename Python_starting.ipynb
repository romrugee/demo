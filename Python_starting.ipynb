{
  "nbformat": 4,
  "nbformat_minor": 0,
  "metadata": {
    "colab": {
      "name": "Python starting",
      "provenance": [],
      "authorship_tag": "ABX9TyPfFGNbla5odpAjMp0gQTVz",
      "include_colab_link": true
    },
    "kernelspec": {
      "name": "python3",
      "display_name": "Python 3"
    }
  },
  "cells": [
    {
      "cell_type": "markdown",
      "metadata": {
        "id": "view-in-github",
        "colab_type": "text"
      },
      "source": [
        "<a href=\"https://colab.research.google.com/github/roomrugee/demo/blob/master/Python_starting.ipynb\" target=\"_parent\"><img src=\"https://colab.research.google.com/assets/colab-badge.svg\" alt=\"Open In Colab\"/></a>"
      ]
    },
    {
      "cell_type": "markdown",
      "metadata": {
        "id": "9yfOMOJ8lLDv",
        "colab_type": "text"
      },
      "source": [
        "# **โครงสร้างภาษา Python**"
      ]
    },
    {
      "cell_type": "code",
      "metadata": {
        "id": "ryPl_u38HvxX",
        "colab_type": "code",
        "outputId": "2a783659-002c-45e2-9a2a-3ee0f9f319eb",
        "colab": {
          "base_uri": "https://localhost:8080/",
          "height": 89
        }
      },
      "source": [
        "#Simple Python Program\n",
        "name =input('whatis you name? \\n')\n",
        "print ('Hi, %s.' %name)\n",
        "print ('Welcome to Python.')"
      ],
      "execution_count": 0,
      "outputs": [
        {
          "output_type": "stream",
          "text": [
            "whatis you name? \n",
            "Pone\n",
            "Hi, Pone.\n",
            "Welcome to Python.\n"
          ],
          "name": "stdout"
        }
      ]
    },
    {
      "cell_type": "code",
      "metadata": {
        "id": "OQ5tW_89HxJR",
        "colab_type": "code",
        "outputId": "9703cb0a-d76f-428c-9764-6d5f34379246",
        "colab": {
          "base_uri": "https://localhost:8080/",
          "height": 107
        }
      },
      "source": [
        "#Statemennt มีหลายคำสั่งในบรรทัดเดียว\n",
        "name1 = input('what is your name? \\n')\n",
        "print ('Hi, %s.' %name); print ('Welcome to Python.'); print ('Do you love it?')"
      ],
      "execution_count": 0,
      "outputs": [
        {
          "output_type": "stream",
          "text": [
            "what is your name? \n",
            "Pone\n",
            "Hi, Pone.\n",
            "Welcome to Python.\n",
            "Do you love it?\n"
          ],
          "name": "stdout"
        }
      ]
    },
    {
      "cell_type": "code",
      "metadata": {
        "id": "igFsJtb5JB-e",
        "colab_type": "code",
        "outputId": "4024338d-83ef-4170-a374-c47e34cc8539",
        "colab": {
          "base_uri": "https://localhost:8080/",
          "height": 290
        }
      },
      "source": [
        "#Indentation and while space (if else for)\n",
        " n = int(input('Input an integer: '))\n",
        " if (n>0):\n",
        "     print('x is positive number')\n",
        "     print('Show number from 0 to %d' %(n-1))\n",
        "else:\n",
        "    print('x is\\'t positive number') \n",
        "for i in range(n):\n",
        "    print(i)"
      ],
      "execution_count": 0,
      "outputs": [
        {
          "output_type": "stream",
          "text": [
            "Input an integer: 12\n",
            "x is positive number\n",
            "Show number from 0 to 11\n",
            "0\n",
            "1\n",
            "2\n",
            "3\n",
            "4\n",
            "5\n",
            "6\n",
            "7\n",
            "8\n",
            "9\n",
            "10\n",
            "11\n"
          ],
          "name": "stdout"
        }
      ]
    },
    {
      "cell_type": "code",
      "metadata": {
        "id": "fua-jyPQKmem",
        "colab_type": "code",
        "colab": {}
      },
      "source": [
        "#Literals\n",
        "a = 1\n",
        "b = -1.64E3\n",
        "c = True\n",
        "d = \"Python\"\n",
        "e = 'A'"
      ],
      "execution_count": 0,
      "outputs": []
    },
    {
      "cell_type": "code",
      "metadata": {
        "id": "-wEyQEw_JEZI",
        "colab_type": "code",
        "outputId": "08b29505-e5d9-49bc-d2c9-2037ddb93e84",
        "colab": {
          "base_uri": "https://localhost:8080/",
          "height": 199
        }
      },
      "source": [
        "#Expressions\n",
        "a = 4\n",
        "b = 5\n",
        "#Boolean expression\n",
        "print(a == 4)\n",
        "print(a == 5)\n",
        "print(a == 4 and b == 5)\n",
        "print(a == 4 and b == 8)\n",
        "print()\n",
        "#Non-boolean expression\n",
        "print(a + b)\n",
        "print(a + 2)\n",
        "print(a * b)\n",
        "print(((a * a) + (b * b)) / 2)\n",
        "print(\"Python \" + \"Language\")"
      ],
      "execution_count": 0,
      "outputs": [
        {
          "output_type": "stream",
          "text": [
            "True\n",
            "False\n",
            "True\n",
            "False\n",
            "\n",
            "9\n",
            "6\n",
            "20\n",
            "20.5\n",
            "Python Language\n"
          ],
          "name": "stdout"
        }
      ]
    },
    {
      "cell_type": "markdown",
      "metadata": {
        "id": "0AkvfRUxlYU2",
        "colab_type": "text"
      },
      "source": [
        "# **ตัวแปรและประเภทข้อมูล**"
      ]
    },
    {
      "cell_type": "code",
      "metadata": {
        "id": "mi8r8reiRouH",
        "colab_type": "code",
        "outputId": "bd0af067-7be3-4cb8-d79b-18d8ffe16dd5",
        "colab": {
          "base_uri": "https://localhost:8080/",
          "height": 107
        }
      },
      "source": [
        "a, b = 1, 2\n",
        "x = y = z = 10\n",
        "print('a = ' , a)\n",
        "print('b = ' , b)\n",
        "print(\"x = \" , x)\n",
        "print(\"y = \" , y)\n",
        "print(\"z = \" , z)"
      ],
      "execution_count": 0,
      "outputs": [
        {
          "output_type": "stream",
          "text": [
            "a =  1\n",
            "b =  2\n",
            "x =  10\n",
            "y =  10\n",
            "z =  10\n"
          ],
          "name": "stdout"
        }
      ]
    },
    {
      "cell_type": "code",
      "metadata": {
        "id": "65yJ04YYRqi7",
        "colab_type": "code",
        "outputId": "9ab9f3d1-8e55-4adb-a2f6-b248c7c36ddd",
        "colab": {
          "base_uri": "https://localhost:8080/",
          "height": 199
        }
      },
      "source": [
        "#Numbers\n",
        "\n",
        "#Integer ใช้ %d แสดงผลในรูปแบบ Stirng format กับฟังก์ชั่น print()\n",
        "#การหารตัวเลขใน Python จะได้ค่าเป็น float เสมอ\n",
        "a = 7\n",
        "b = 3\n",
        "c = a + b\n",
        "d = a / b\n",
        "\n",
        "print('a = %d' % a)\n",
        "print('b = %d' % b)\n",
        "print('c = %d' % c)\n",
        "print('d = ' , d)\n",
        "\n",
        "print()\n",
        "#Float point number\n",
        "speed = 34.12\n",
        "pi = 22 / 7\n",
        "height = 2.3E5\n",
        "length = 1.3E-3\n",
        "\n",
        "print('speed = %f' % speed)\n",
        "print('pi = %f' % pi)\n",
        "print('height = %f' % height)\n",
        "print('length = %f' % length)\n",
        "print(pi)\n"
      ],
      "execution_count": 0,
      "outputs": [
        {
          "output_type": "stream",
          "text": [
            "a = 7\n",
            "b = 3\n",
            "c = 10\n",
            "d =  2.3333333333333335\n",
            "\n",
            "speed = 34.120000\n",
            "pi = 3.142857\n",
            "height = 230000.000000\n",
            "length = 0.001300\n",
            "3.142857142857143\n"
          ],
          "name": "stdout"
        }
      ]
    },
    {
      "cell_type": "code",
      "metadata": {
        "id": "5__OB22VRrFG",
        "colab_type": "code",
        "outputId": "80b4a8a2-f0b0-43bd-cd15-7bbca13e18b8",
        "colab": {
          "base_uri": "https://localhost:8080/",
          "height": 145
        }
      },
      "source": [
        "#Strings\n",
        "\n",
        "name3 = \"Rpmrugee\"\n",
        "country = \"Thailand\"\n",
        "language = 'Python'\n",
        "interest = 'Mountain Everest'\n",
        "\n",
        "#ใช้เหมือนกันแต่\n",
        "\n",
        "sentence1 = \"What's your name?\"\n",
        "sentence2 = 'I\\'m Romrugee'\n",
        "sentence3 = \"He said \\\"I would learn Python first\\\".\"\n",
        "sentence4 = 'His teach replied \"Oh well!\" '\n",
        "print(sentence1)\n",
        "print(sentence2)\n",
        "print(sentence3)\n",
        "print(sentence4)\n",
        "print()\n",
        "\n",
        "site = 'python' + '.com'\n",
        "tutorial = 'Python' 'Languege'\n",
        "print(site)\n",
        "print(tutorial)"
      ],
      "execution_count": 0,
      "outputs": [
        {
          "output_type": "stream",
          "text": [
            "What's your name?\n",
            "I'm Romrugee\n",
            "He said \"I would learn Python first\".\n",
            "His teach replied \"Oh well!\" \n",
            "\n",
            "python.com\n",
            "PythonLanguege\n"
          ],
          "name": "stdout"
        }
      ]
    },
    {
      "cell_type": "code",
      "metadata": {
        "id": "kCV-FwFyRrge",
        "colab_type": "code",
        "outputId": "7ea056d6-6354-45f0-957a-23be8067ffdf",
        "colab": {
          "base_uri": "https://localhost:8080/",
          "height": 125
        }
      },
      "source": [
        "#Lists\n",
        "\n",
        "#Declare lists\n",
        "numbers = [1, 2, 4, 6, 8, 19]\n",
        "names = [\"RO\", \"RU\", \"GEE\", \"TH\", \"ONG\"]\n",
        "mixed = [-2, 5, 84.2, \"Moutain\", \"Python\"]\n",
        "#Diaplay lists\n",
        "print(numbers)\n",
        "print(names)\n",
        "print(mixed)\n",
        "\n",
        "#Display lists using the for loops\n",
        "for n in numbers:\n",
        "    print(n, end = \" \")\n",
        "print()\n",
        "\n",
        "for n in names:\n",
        "    print(n, end= \" \")\n",
        "print()\n",
        "\n",
        "for n in mixed:\n",
        "    print(n, end= \" \")\n",
        "print()"
      ],
      "execution_count": 0,
      "outputs": [
        {
          "output_type": "stream",
          "text": [
            "[1, 2, 4, 6, 8, 19]\n",
            "['RO', 'RU', 'GEE', 'TH', 'ONG']\n",
            "[-2, 5, 84.2, 'Moutain', 'Python']\n",
            "1 2 4 6 8 19 \n",
            "RO RU GEE TH ONG \n",
            "-2 5 84.2 Moutain Python \n"
          ],
          "name": "stdout"
        }
      ]
    },
    {
      "cell_type": "code",
      "metadata": {
        "id": "7EhgDg2aRr_P",
        "colab_type": "code",
        "outputId": "59a7e48e-afba-465f-c0e7-22f22d435ddb",
        "colab": {
          "base_uri": "https://localhost:8080/",
          "height": 72
        }
      },
      "source": [
        "languages = [\"c\", \"C+\", \"Java\", \"Python\", \"PHP\"]\n",
        "\n",
        "print(\"Index at 0 = \", languages[0])\n",
        "print(\"Index at 3 = \", languages[3])\n",
        "languages[0] = \"Scalar\"\n",
        "print(\"Index at 0 = \", languages[0])"
      ],
      "execution_count": 0,
      "outputs": [
        {
          "output_type": "stream",
          "text": [
            "Index at 0 =  c\n",
            "Index at 3 =  Python\n",
            "Index at 0 =  Scalar\n"
          ],
          "name": "stdout"
        }
      ]
    },
    {
      "cell_type": "code",
      "metadata": {
        "id": "b4M0RQW9RstF",
        "colab_type": "code",
        "outputId": "e7a6e026-087f-4604-d511-2a198f2bdbfb",
        "colab": {
          "base_uri": "https://localhost:8080/",
          "height": 199
        }
      },
      "source": [
        "import sys\n",
        "\n",
        "a = 8\n",
        "b = 13.4\n",
        "c = \"Python\"\n",
        "d = [1, 2, 3, 4]\n",
        "\n",
        "print('Size of a = ', sys.getsizeof(a)) #function getsizeof() indent size in Byte\n",
        "print('Type of a = ', type(a)) \n",
        "\n",
        "print('Size of b = ', sys.getsizeof(b))\n",
        "print('Type of b = ', type(b))\n",
        "\n",
        "print('Size of c = ', sys.getsizeof(c))\n",
        "print('Type of c =', type(c))\n",
        "\n",
        "print('Size of d = ', sys.getsizeof(d))\n",
        "print('Type of d = ', type(d))\n",
        "print()\n",
        "\n",
        "del a           #ยกเลิกหรือลบการประกาศตัวแปรออกไปจากหน่วยความจำ\n",
        "del b, c, d\n",
        "\n",
        "if 'a' in locals():     #ตรวจสอบว่าตัวแปรถูกประกาศหรือยัง locals() ตรวจเฉพาะ module ปัจจุบัน ส่วน globals() ตรวจสอบตัวแปรในโปรแกรมทั้งหมด \n",
        "    print(\"a is exist\")\n",
        "else:\n",
        "    print(\"a is not exist\")"
      ],
      "execution_count": 0,
      "outputs": [
        {
          "output_type": "stream",
          "text": [
            "Size of a =  28\n",
            "Type of a =  <class 'int'>\n",
            "Size of b =  24\n",
            "Type of b =  <class 'float'>\n",
            "Size of c =  55\n",
            "Type of c = <class 'str'>\n",
            "Size of d =  96\n",
            "Type of d =  <class 'list'>\n",
            "\n",
            "a is not exist\n"
          ],
          "name": "stdout"
        }
      ]
    },
    {
      "cell_type": "markdown",
      "metadata": {
        "id": "cw1hFHpElwgp",
        "colab_type": "text"
      },
      "source": [
        "#**การรับค่าและการแสดงผล**"
      ]
    },
    {
      "cell_type": "code",
      "metadata": {
        "id": "vzjLFrg1RtTx",
        "colab_type": "code",
        "outputId": "c3973e7b-6ae0-48d5-f73a-146ba9cdc997",
        "colab": {
          "base_uri": "https://localhost:8080/",
          "height": 145
        }
      },
      "source": [
        "#print() Function\n",
        "print(\"Banana\", \"Apple\", \"Kiwi\")\n",
        "print(\"One\")\n",
        "print(\"Two\")\n",
        "print(\"Three\")\n",
        "\n",
        "print()\n",
        "\n",
        "#print(value,...,sep='',end='\\n'); ค่า default\n",
        "print(\"Banana\", \"Apple\", \"Kiwi\", sep=', ')\n",
        "print(\"One\", end=' ')\n",
        "print(\"Two\", end=' ')\n",
        "print(\"Three\", end=' ')"
      ],
      "execution_count": 0,
      "outputs": [
        {
          "output_type": "stream",
          "text": [
            "Banana Apple Kiwi\n",
            "One\n",
            "Two\n",
            "Three\n",
            "\n",
            "Banana, Apple, Kiwi\n",
            "One Two Three "
          ],
          "name": "stdout"
        }
      ]
    },
    {
      "cell_type": "code",
      "metadata": {
        "id": "ex5zgxATRt1H",
        "colab_type": "code",
        "outputId": "935132e6-63cf-4eaf-e4c5-6912dae355cf",
        "colab": {
          "base_uri": "https://localhost:8080/",
          "height": 90
        }
      },
      "source": [
        "lang = \"Python\"\n",
        "version = 3.8\n",
        "print(\"%s language\" % lang)\n",
        "print(\"Version %f\" % version)\n",
        "print(\"%d\" %123)\n",
        "print(\"%s %f %d\" % (lang, version, 123))\n"
      ],
      "execution_count": 0,
      "outputs": [
        {
          "output_type": "stream",
          "text": [
            "Python language\n",
            "Version 3.800000\n",
            "123\n",
            "Python 3.800000 123\n"
          ],
          "name": "stdout"
        }
      ]
    },
    {
      "cell_type": "code",
      "metadata": {
        "id": "i3eJFV85RpsK",
        "colab_type": "code",
        "colab": {}
      },
      "source": [
        "#Response in HTML \n",
        "print('<!DOCTYPE html>');\n",
        "print('<html>');\n",
        "print('<body>');\n",
        "print('<h1> Welcome to Python </h1>');\n",
        "print('</body>');\n",
        "print('</html>');"
      ],
      "execution_count": 0,
      "outputs": []
    },
    {
      "cell_type": "code",
      "metadata": {
        "id": "cWdWFKDQJF2k",
        "colab_type": "code",
        "outputId": "670dd7ab-2ab4-411d-bcab-a00e6b245d74",
        "colab": {
          "base_uri": "https://localhost:8080/",
          "height": 108
        }
      },
      "source": [
        "#การรับค่าจาก Keybord ด้วย input()\n",
        "\n",
        "#String\n",
        "name4 = input(\"Enter your name: \")\n",
        "print(\"Hello \" + name4)\n",
        "\n",
        "#Number\n",
        "a = int(input(\"Enter first number: \"))\n",
        "b = int(input(\"Enter second number: \"))\n",
        "print(\"a + b = %d\" % (a + b))"
      ],
      "execution_count": 0,
      "outputs": [
        {
          "output_type": "stream",
          "text": [
            "Enter your name: pp\n",
            "Hello pp\n",
            "Enter first number: 19\n",
            "Enter second number: 32\n",
            "a + b = 51\n"
          ],
          "name": "stdout"
        }
      ]
    },
    {
      "cell_type": "markdown",
      "metadata": {
        "id": "6BkIW1OYofjV",
        "colab_type": "text"
      },
      "source": [
        "# **ตัวดำเนินการใน Python**"
      ]
    },
    {
      "cell_type": "markdown",
      "metadata": {
        "id": "ZOe6FiDlorE2",
        "colab_type": "text"
      },
      "source": [
        "## **Assignment operator**"
      ]
    },
    {
      "cell_type": "markdown",
      "metadata": {
        "id": "5H77Pv3tpCck",
        "colab_type": "text"
      },
      "source": [
        "คือการกำหนดค่า ด้วย (=)"
      ]
    },
    {
      "cell_type": "markdown",
      "metadata": {
        "id": "SQSbfPE2phmR",
        "colab_type": "text"
      },
      "source": [
        "## **Arithmetic operator**"
      ]
    },
    {
      "cell_type": "code",
      "metadata": {
        "id": "SDp-w6L1puS8",
        "colab_type": "code",
        "outputId": "fdc8d0c3-8cc9-4d42-95fa-da3869dc0c30",
        "colab": {
          "base_uri": "https://localhost:8080/",
          "height": 108
        }
      },
      "source": [
        "a = 5\n",
        "b = 3\n",
        "print(\"a * b = \", a * b)\n",
        "print(\"a / b = \", a / b)\n",
        "print(\"a ** b = \", a ** b)\n",
        "print(\"a // b = \", a // b)\n",
        "print(\"a % b = \", a % b)"
      ],
      "execution_count": 0,
      "outputs": [
        {
          "output_type": "stream",
          "text": [
            "a * b =  15\n",
            "a / b =  1.6666666666666667\n",
            "a ** b =  125\n",
            "a // b =  1\n",
            "a % b =  2\n"
          ],
          "name": "stdout"
        }
      ]
    },
    {
      "cell_type": "markdown",
      "metadata": {
        "id": "ZLtGDJ3frAil",
        "colab_type": "text"
      },
      "source": [
        "## **Comparison operators**"
      ]
    },
    {
      "cell_type": "code",
      "metadata": {
        "id": "IxdiMTSWrJKy",
        "colab_type": "code",
        "outputId": "b3a6ced8-d235-481c-c3e4-16430aebf933",
        "colab": {
          "base_uri": "https://localhost:8080/",
          "height": 199
        }
      },
      "source": [
        "#Constant comparison\n",
        "print('4 == 4 : ', 4 == 4)\n",
        "print('1 < 2 : ', 1 < 2)\n",
        "print('3 > 10 : ', 3 > 10)\n",
        "print('2 <= 1.5 : ', 2 <= 1.5)\n",
        "print()\n",
        "\n",
        "#Variable comparison\n",
        "a = 10\n",
        "b = 8\n",
        "print('a != b : ', a != b)\n",
        "print('a - b == 2 : ', a - b == 2)\n",
        "print()\n",
        "\n",
        "e = 10\n",
        "f = e\n",
        "f = 20\n",
        "print(e)\n",
        "print(f)"
      ],
      "execution_count": 0,
      "outputs": [
        {
          "output_type": "stream",
          "text": [
            "4 == 4 :  True\n",
            "1 < 2 :  True\n",
            "3 > 10 :  False\n",
            "2 <= 1.5 :  False\n",
            "\n",
            "a != b :  True\n",
            "a - b == 2 :  True\n",
            "\n",
            "10\n",
            "20\n"
          ],
          "name": "stdout"
        }
      ]
    },
    {
      "cell_type": "code",
      "metadata": {
        "id": "04gB0OWgs5Lm",
        "colab_type": "code",
        "outputId": "544b5fb0-121e-4529-d1af-e22a0cd2951b",
        "colab": {
          "base_uri": "https://localhost:8080/",
          "height": 199
        }
      },
      "source": [
        "class Person:\n",
        "    def __init__(self, name):\n",
        "        self.name = name\n",
        "    def setName(self, name):\n",
        "        self.name = name\n",
        "    def getName(self):\n",
        "        return self.name\n",
        "\n",
        "p1 = Person('Tommy')\n",
        "p2 = Person('Jane')\n",
        "#Tell p3 use memory address of p1\n",
        "p3 = p1 #same object \n",
        "\n",
        "print('Memory address of a: ', id(p1)) #id() check memory of object\n",
        "print('Memory address of b: ', id(p2))\n",
        "print('Memory address of c: ', id(p3))\n",
        "\n",
        "print('p1 name:', p1.getName())\n",
        "print('p3 name:', p1.getName())\n",
        "\n",
        "print('Changed p3 name to \\'Tom\\'') \n",
        "p3.setName('Tom')             #เปลี่ยนชื่อ p3 \n",
        "print('p1 name:', p1.getName())\n",
        "print('p3 name:', p3.getName()) \n",
        "\n",
        "print('p1 is p2:', p1 is p2)\n",
        "print('p1 is p3:', p1 is p3)#same object with p1"
      ],
      "execution_count": 1,
      "outputs": [
        {
          "output_type": "stream",
          "text": [
            "Memory address of a:  139853835994224\n",
            "Memory address of b:  139853835994168\n",
            "Memory address of c:  139853835994224\n",
            "p1 name: Tommy\n",
            "p3 name: Tommy\n",
            "Changed p3 name to 'Tom'\n",
            "p1 name: Tom\n",
            "p3 name: Tom\n",
            "p1 is p2: False\n",
            "p1 is p3: True\n"
          ],
          "name": "stdout"
        }
      ]
    },
    {
      "cell_type": "code",
      "metadata": {
        "id": "2I5Ixy0kBavs",
        "colab_type": "code",
        "colab": {
          "base_uri": "https://localhost:8080/",
          "height": 90
        },
        "outputId": "2598d494-acaf-4c41-e0e5-a681d059e7aa"
      },
      "source": [
        "n = int(input(\"Enter a number : \"))\n",
        "\n",
        "if n % 2 == 0:\n",
        "    print('%d is even number' % n)\n",
        "else:\n",
        "    print('%d is odd number' % n)\n",
        "print()\n",
        "if n > 0:\n",
        "    print('%d is positive number' % n)\n",
        "elif n == 0:\n",
        "    print('%d is zero' % n)\n",
        "else:\n",
        "    print('%d is negative number' % n)"
      ],
      "execution_count": 6,
      "outputs": [
        {
          "output_type": "stream",
          "text": [
            "Enter a number : -1\n",
            "-1 is odd number\n",
            "\n",
            "-1 is negative number\n"
          ],
          "name": "stdout"
        }
      ]
    },
    {
      "cell_type": "markdown",
      "metadata": {
        "id": "dB7jVnmBNdia",
        "colab_type": "text"
      },
      "source": [
        "## **Logical operators**\n",
        "and / or / not"
      ]
    },
    {
      "cell_type": "code",
      "metadata": {
        "id": "-awlfkUwBbdT",
        "colab_type": "code",
        "colab": {
          "base_uri": "https://localhost:8080/",
          "height": 90
        },
        "outputId": "ed3d727c-3e49-4bb9-8f1c-9167a5227433"
      },
      "source": [
        "print('Log in page')\n",
        "username = input('Username: ')\n",
        "password = input('Password: ')\n",
        "\n",
        "if (username == 'pone' and password == '1234'):\n",
        "    print('Welcome Pone, you\\'ve logged in.')\n",
        "else:\n",
        "    print('Invalid username or password.')"
      ],
      "execution_count": 10,
      "outputs": [
        {
          "output_type": "stream",
          "text": [
            "Log in page\n",
            "Username: Pone\n",
            "Password: 1234\n",
            "Invalid username or password.\n"
          ],
          "name": "stdout"
        }
      ]
    },
    {
      "cell_type": "markdown",
      "metadata": {
        "id": "8nceMujEOwCs",
        "colab_type": "text"
      },
      "source": [
        "## **Bitwise operators**\n"
      ]
    },
    {
      "cell_type": "code",
      "metadata": {
        "id": "MGx9xVVQBclr",
        "colab_type": "code",
        "colab": {
          "base_uri": "https://localhost:8080/",
          "height": 145
        },
        "outputId": "c97195a8-35fc-4d38-d623-78d72d7d0376"
      },
      "source": [
        "a = 3 # 00000011\n",
        "b = 5 # 00000101\n",
        "\n",
        "print('a & b = ', a % b)\n",
        "print('a | b = ', a | b)\n",
        "print('a ^ b = ', a ^ b)\n",
        "print('~a = ', ~a)\n",
        "print('a << 1 = ', a << 1)\n",
        "print('a << 2 = ', a << 2)\n",
        "print('100 >> 1 = ', 100 >> 1)"
      ],
      "execution_count": 11,
      "outputs": [
        {
          "output_type": "stream",
          "text": [
            "a & b =  3\n",
            "a | b =  7\n",
            "a ^ b =  6\n",
            "~a =  -4\n",
            "a << 1 =  6\n",
            "a << 2 =  12\n",
            "100 >> 1 =  50\n"
          ],
          "name": "stdout"
        }
      ]
    },
    {
      "cell_type": "markdown",
      "metadata": {
        "id": "bN23plN0Qchg",
        "colab_type": "text"
      },
      "source": [
        "## **Sequence Operators**\n"
      ]
    },
    {
      "cell_type": "code",
      "metadata": {
        "id": "O6uuMaYEQkaV",
        "colab_type": "code",
        "colab": {
          "base_uri": "https://localhost:8080/",
          "height": 90
        },
        "outputId": "6e2fbc2f-87df-43fe-c38d-46941147fb8e"
      },
      "source": [
        "names = ['Lemon', 'Ice-crame', 'Pizza', 'Coffee']\n",
        "\n",
        "if 'Lemon' in names:\n",
        "    print('\\'Lemon\\' exist in the list')\n",
        "else:\n",
        "    print('\\'Lemon\\' not exist in the name list')\n",
        "\n",
        "if 'Hey' in names:\n",
        "    print('\\'Hey\\' exist in the list')\n",
        "else:\n",
        "    print('\\'Hey\\' not exist in the name list')\n",
        "\n",
        "numbers = {'1': 'one', '3': 'three', '2': 'two', '5': 'five'} #'Key':'Values'\n",
        "\n",
        "if 'one' in numbers.values():\n",
        "   print('\\'one\\' exist in the dictionary values')\n",
        "else:\n",
        "    print('\\'one\\' not exist in the dictionary values')\n",
        " \n",
        "if '7' in numbers.keys():\n",
        "    print('\\'7\\' exist in the dictionary keys')\n",
        "else:\n",
        "    print('\\'7\\' not exist in the dictionary keys')"
      ],
      "execution_count": 12,
      "outputs": [
        {
          "output_type": "stream",
          "text": [
            "'Lemon' exist in the list\n",
            "'Hey' not exist in the name list\n",
            "'one' exist in the dictionary values\n",
            "'7' not exist in the dictionary keys\n"
          ],
          "name": "stdout"
        }
      ]
    },
    {
      "cell_type": "markdown",
      "metadata": {
        "id": "B0e20NItS_84",
        "colab_type": "text"
      },
      "source": [
        "# **คำสั่งเลือกเงื่อนไข**\n",
        "\n"
      ]
    },
    {
      "cell_type": "markdown",
      "metadata": {
        "id": "Or43LsMlTL_4",
        "colab_type": "text"
      },
      "source": [
        "## **คำสั่ง if**"
      ]
    },
    {
      "cell_type": "code",
      "metadata": {
        "id": "k3acsZ-kTYvf",
        "colab_type": "code",
        "colab": {
          "base_uri": "https://localhost:8080/",
          "height": 72
        },
        "outputId": "93075d90-e9c4-4e63-f973-17a32f1da64b"
      },
      "source": [
        "#if expression:\n",
        "    # statements\n",
        "\n",
        "n = 10\n",
        "if n == 10:\n",
        "    print('n equal to 10')\n",
        "\n",
        "logged_in = False\n",
        "if not logged_in:\n",
        "    print('You must login to continue')\n",
        "\n",
        "m = 4\n",
        "if m % 2 == 0 and m > 0:\n",
        "    print('m is even and positive numbers')\n",
        "\n",
        "if 3 > 10:\n",
        "    print('This block isn\\'t executed')    "
      ],
      "execution_count": 13,
      "outputs": [
        {
          "output_type": "stream",
          "text": [
            "n equal to 10\n",
            "You must login to continue\n",
            "m is even and positive numbers\n"
          ],
          "name": "stdout"
        }
      ]
    },
    {
      "cell_type": "markdown",
      "metadata": {
        "id": "m-sJkkZuTiCr",
        "colab_type": "text"
      },
      "source": [
        "## **คำสั่ง if else**"
      ]
    },
    {
      "cell_type": "code",
      "metadata": {
        "id": "cIGHTt-NTlD-",
        "colab_type": "code",
        "colab": {
          "base_uri": "https://localhost:8080/",
          "height": 72
        },
        "outputId": "5d1013e0-2298-432b-82e9-df97db0e8ef7"
      },
      "source": [
        "n = 5\n",
        "if n == 10:\n",
        "    print('n equal to 10')\n",
        "else:\n",
        "    print('n is something else except 10')\n",
        "\n",
        "name = 'James'\n",
        "if name == 'Mateo':\n",
        "    print('Hi, Mateo.')\n",
        "else:\n",
        "    print('Who are you?') \n",
        "\n",
        "money = 300\n",
        "if money >= 350:\n",
        "    print('You can buy an iPad')\n",
        "else:\n",
        "    print('You don\\'t have enough money to buy an iPad')"
      ],
      "execution_count": 14,
      "outputs": [
        {
          "output_type": "stream",
          "text": [
            "n is something else except 10\n",
            "Who are you?\n",
            "You don't have enough money to buy an iPad\n"
          ],
          "name": "stdout"
        }
      ]
    },
    {
      "cell_type": "markdown",
      "metadata": {
        "id": "TQ6zoervTozF",
        "colab_type": "text"
      },
      "source": [
        "## **คำสั่ง if elif**"
      ]
    },
    {
      "cell_type": "code",
      "metadata": {
        "id": "LLl9M2dGTrXS",
        "colab_type": "code",
        "colab": {
          "base_uri": "https://localhost:8080/",
          "height": 72
        },
        "outputId": "6245510d-d267-4dc1-8c7f-86c02a23c481"
      },
      "source": [
        "print('Welcome to Py\\'s game')\n",
        "level = input('Enter level (1-4): ')\n",
        "\n",
        "if level == '1':\n",
        "    print('Easy')\n",
        "elif level == '2':\n",
        "    print('Medium')\n",
        "elif level == '3':\n",
        "    print('Hard')\n",
        "elif level == '4':\n",
        "    print('Expert')\n",
        "else:\n",
        "    print('Invalid level selected')"
      ],
      "execution_count": 15,
      "outputs": [
        {
          "output_type": "stream",
          "text": [
            "Welcome to Py's game\n",
            "Enter level (1-4): 2\n",
            "Medium\n"
          ],
          "name": "stdout"
        }
      ]
    },
    {
      "cell_type": "code",
      "metadata": {
        "id": "qX4vbJ5iUnXf",
        "colab_type": "code",
        "colab": {
          "base_uri": "https://localhost:8080/",
          "height": 217
        },
        "outputId": "f669e430-a9ad-418f-c1d2-272690aa2955"
      },
      "source": [
        "!pip install python-datetime-tz #install before import datetime cuz' not found\n",
        "import datetime \n",
        "import math\n",
        "\n",
        "#want to calculate time ago this date\n",
        "#now = datetime.datetime(2017, 3, 29, 11, 00, 00)\n",
        "\n",
        "\n",
        "#uncomment line below for current datetime object\n",
        "now = datetime.datetime.now()\n",
        "\n",
        "#creat a list and add all datetime(s)\n",
        "#all dates that earlier than 'now' object\n",
        "date_list = [];\n",
        "date_list.append(datetime.datetime(2020, 2, 24, 14, 59, 24))\n",
        "date_list.append(datetime.datetime(2020, 2, 24, 14, 12, 12))\n",
        "date_list.append(datetime.datetime(2020, 2, 20, 17, 24, 54))\n",
        "date_list.append(datetime.datetime(2020, 1, 14, 8, 43, 5))\n",
        "date_list.append(datetime.datetime(2019, 8, 13, 19, 20, 20))\n",
        "date_list.append(datetime.datetime(2015, 2, 8, 19, 20, 20))\n",
        "\n",
        "print('Time ago to', end = ' ')\n",
        "print(now.strftime(\"%B %d, %Y %I:%M:%S %p\"))\n",
        "\n",
        "for d in date_list:\n",
        "    time_dif = (now - d).total_seconds()\n",
        "\n",
        "    print(d.strftime(\"%b %d %Y %H:%M:%S %p\"), ' => ', end = '')\n",
        "    # calculate for time ago since d\n",
        "    if time_dif < 60:\n",
        "        print(math.floor(time_dif), 'secs ago')\n",
        "    elif time_dif <= 3600:\n",
        "        print(math.floor(time_dif / 60), 'mins ago')\n",
        "    elif time_dif <= 86400:\n",
        "        print(math.floor(time_dif / 3600), 'hours ago')\n",
        "    elif time_dif <= 86400 * 30:\n",
        "        print(math.floor(time_dif / 86400), 'days ago')\n",
        "    elif time_dif <= 86400 * 365.25:\n",
        "        print(math.floor(time_dif / (86400 * 30)), 'months ago')\n",
        "    else:\n",
        "        print(math.floor(time_dif / (86400 * 365.25)), 'years ago')"
      ],
      "execution_count": 41,
      "outputs": [
        {
          "output_type": "stream",
          "text": [
            "Requirement already satisfied: python-datetime-tz in /usr/local/lib/python3.6/dist-packages (0.5.4)\n",
            "Requirement already satisfied: python-dateutil>=2.0 in /usr/local/lib/python3.6/dist-packages (from python-datetime-tz) (2.6.1)\n",
            "Requirement already satisfied: pytz>=2011g in /usr/local/lib/python3.6/dist-packages (from python-datetime-tz) (2018.9)\n",
            "Requirement already satisfied: six>=1.5 in /usr/local/lib/python3.6/dist-packages (from python-dateutil>=2.0->python-datetime-tz) (1.12.0)\n",
            "Time ago to February 24, 2020 09:15:10 AM\n",
            "Feb 24 2020 14:59:24 PM  => -20654 secs ago\n",
            "Feb 24 2020 14:12:12 PM  => -17822 secs ago\n",
            "Feb 20 2020 17:24:54 PM  => 3 days ago\n",
            "Jan 14 2020 08:43:05 AM  => 1 months ago\n",
            "Aug 13 2019 19:20:20 PM  => 6 months ago\n",
            "Feb 08 2015 19:20:20 PM  => 5 years ago\n"
          ],
          "name": "stdout"
        }
      ]
    },
    {
      "cell_type": "markdown",
      "metadata": {
        "id": "pu20iHbGe5gF",
        "colab_type": "text"
      },
      "source": [
        "## **Loop**"
      ]
    },
    {
      "cell_type": "code",
      "metadata": {
        "id": "k_WDI4zTe918",
        "colab_type": "code",
        "colab": {
          "base_uri": "https://localhost:8080/",
          "height": 35
        },
        "outputId": "9d1589b5-337e-4760-cf1e-b092a9d6fe67"
      },
      "source": [
        "#while expression:\n",
        "    # statements\n",
        "\n",
        "i = 1\n",
        "\n",
        "while i <= 10:\n",
        "    print(i, end = ', ')\n",
        "    i = i + 1"
      ],
      "execution_count": 42,
      "outputs": [
        {
          "output_type": "stream",
          "text": [
            "1, 2, 3, 4, 5, 6, 7, 8, 9, 10, "
          ],
          "name": "stdout"
        }
      ]
    },
    {
      "cell_type": "code",
      "metadata": {
        "id": "2Ti6ZYsGfLwS",
        "colab_type": "code",
        "colab": {
          "base_uri": "https://localhost:8080/",
          "height": 54
        },
        "outputId": "d95aef06-edea-4cd5-860f-c858af20c7d5"
      },
      "source": [
        "# decrease numbers by 5, start from 50\n",
        "i = 50\n",
        "\n",
        "while i >= 0:\n",
        "    print(i, end = ', ')\n",
        "    i = i - 5\n",
        "\n",
        "# an empty line\n",
        "print()\n",
        "\n",
        "# print number series for 2n + 1\n",
        "# where 1 <= n <= 10\n",
        "n = 1\n",
        "\n",
        "while n <= 10:\n",
        "    print(2 * n + 1, end = ', ')\n",
        "    n = n + 1"
      ],
      "execution_count": 43,
      "outputs": [
        {
          "output_type": "stream",
          "text": [
            "50, 45, 40, 35, 30, 25, 20, 15, 10, 5, 0, \n",
            "3, 5, 7, 9, 11, 13, 15, 17, 19, 21, "
          ],
          "name": "stdout"
        }
      ]
    },
    {
      "cell_type": "code",
      "metadata": {
        "id": "F2EuvwwUfsco",
        "colab_type": "code",
        "colab": {
          "base_uri": "https://localhost:8080/",
          "height": 290
        },
        "outputId": "9549d5af-4e36-4660-d13d-f600f28a2a7f"
      },
      "source": [
        "number = []\n",
        "MAX_INPUT = 10\n",
        "\n",
        "# getting input into list\n",
        "print('Enter %d numbers to the list' % MAX_INPUT)\n",
        "\n",
        "i = 1\n",
        "while i <= MAX_INPUT:\n",
        "    print('Number %d: ' % i, end = '')\n",
        "    n = int(input())\n",
        "    number.append(n)\n",
        "    i += 1\n",
        "\n",
        "# displaying numbers from list\n",
        "print('Your numbers in the list')\n",
        "\n",
        "sum = 0\n",
        "\n",
        "i = 1\n",
        "while i <= MAX_INPUT:\n",
        "    print(number[i - 1], end = ', ')\n",
        "    sum += number[i - 1]\n",
        "    i += 1\n",
        "\n",
        "print('\\nSum = %d' % sum)\n",
        "print('Average = %f' % (sum / MAX_INPUT))"
      ],
      "execution_count": 44,
      "outputs": [
        {
          "output_type": "stream",
          "text": [
            "Enter 10 numbers to the list\n",
            "Number 1: 12\n",
            "Number 2: 13\n",
            "Number 3: 14\n",
            "Number 4: 15\n",
            "Number 5: 16\n",
            "Number 6: 17\n",
            "Number 7: 18\n",
            "Number 8: 19\n",
            "Number 9: 20\n",
            "Number 10: 21\n",
            "Your numbers in the list\n",
            "12, 13, 14, 15, 16, 17, 18, 19, 20, 21, \n",
            "Sum = 165\n",
            "Average = 16.500000\n"
          ],
          "name": "stdout"
        }
      ]
    },
    {
      "cell_type": "code",
      "metadata": {
        "id": "gqKkYBEmg5XJ",
        "colab_type": "code",
        "colab": {
          "base_uri": "https://localhost:8080/",
          "height": 399
        },
        "outputId": "059a5f14-cade-4d2e-ecbc-02e879c596dd"
      },
      "source": [
        "# loop through string\n",
        "site = 'romrugee'\n",
        "for n in site:\n",
        "    print(n)\n",
        "\n",
        "# loop through list\n",
        "names = ['Banana', 'Coffee', 'Coconut', 'Apple', 'Orange']\n",
        "for n in names:\n",
        "    print(n)\n",
        "\n",
        "numbers = [10, 20, 30, 40, 50, 60, 70, 80]\n",
        "for n in numbers:\n",
        "    print(n)"
      ],
      "execution_count": 45,
      "outputs": [
        {
          "output_type": "stream",
          "text": [
            "r\n",
            "o\n",
            "m\n",
            "r\n",
            "u\n",
            "g\n",
            "e\n",
            "e\n",
            "Banana\n",
            "Coffee\n",
            "Coconut\n",
            "Apple\n",
            "Orange\n",
            "10\n",
            "20\n",
            "30\n",
            "40\n",
            "50\n",
            "60\n",
            "70\n",
            "80\n"
          ],
          "name": "stdout"
        }
      ]
    },
    {
      "cell_type": "code",
      "metadata": {
        "id": "XDh_-_6yhYFb",
        "colab_type": "code",
        "colab": {
          "base_uri": "https://localhost:8080/",
          "height": 90
        },
        "outputId": "20d4fc75-3d6e-4dcc-d0b4-26c38af00bc8"
      },
      "source": [
        "a = list(range(10)) #display index at 0 - 9\n",
        "b = list(range(1, 11)) #(start, last index before the lastnum)\n",
        "c = list(range(0, 30, 5))\n",
        "d = list(range(0, -10, -1))\n",
        "\n",
        "print(a)\n",
        "print(b)\n",
        "print(c)\n",
        "print(d)"
      ],
      "execution_count": 46,
      "outputs": [
        {
          "output_type": "stream",
          "text": [
            "[0, 1, 2, 3, 4, 5, 6, 7, 8, 9]\n",
            "[1, 2, 3, 4, 5, 6, 7, 8, 9, 10]\n",
            "[0, 5, 10, 15, 20, 25]\n",
            "[0, -1, -2, -3, -4, -5, -6, -7, -8, -9]\n"
          ],
          "name": "stdout"
        }
      ]
    },
    {
      "cell_type": "code",
      "metadata": {
        "id": "qTpYvaaWiBna",
        "colab_type": "code",
        "colab": {
          "base_uri": "https://localhost:8080/",
          "height": 72
        },
        "outputId": "5226b9fd-493a-4081-9c3e-d2fda76ca137"
      },
      "source": [
        "for i in range(1, 11):\n",
        "    print(i, end = ', ')\n",
        "\n",
        "print()\n",
        "for i in range(10, 0, -1):\n",
        "    print(i, end = ', ')\n",
        "\n",
        "print()\n",
        "names = ['Banana', 'Coffee', 'Coconut', 'Apple', 'Orange']\n",
        "for i in range(len(names)):\n",
        "    print(names[i], end = ', ')"
      ],
      "execution_count": 47,
      "outputs": [
        {
          "output_type": "stream",
          "text": [
            "1, 2, 3, 4, 5, 6, 7, 8, 9, 10, \n",
            "10, 9, 8, 7, 6, 5, 4, 3, 2, 1, \n",
            "Banana, Coffee, Coconut, Apple, Orange, "
          ],
          "name": "stdout"
        }
      ]
    },
    {
      "cell_type": "code",
      "metadata": {
        "id": "UaPBk5BFiTWL",
        "colab_type": "code",
        "colab": {
          "base_uri": "https://localhost:8080/",
          "height": 54
        },
        "outputId": "89290a94-7e82-4da3-90c8-648b41cf6f62"
      },
      "source": [
        "for i in range(1, 11):\n",
        "    if i == 5:\n",
        "        break\n",
        "    print(i, end = ', ')\n",
        "\n",
        "print()\n",
        "\n",
        "for i in range(1, 11):   \n",
        "    if i == 5:\n",
        "        continue\n",
        "    print(i, end = ', ')"
      ],
      "execution_count": 50,
      "outputs": [
        {
          "output_type": "stream",
          "text": [
            "1, 2, 3, 4, \n",
            "1, 2, 3, 4, 6, 7, 8, 9, 10, "
          ],
          "name": "stdout"
        }
      ]
    },
    {
      "cell_type": "code",
      "metadata": {
        "id": "JihTOajeisLE",
        "colab_type": "code",
        "colab": {
          "base_uri": "https://localhost:8080/",
          "height": 54
        },
        "outputId": "a6a29bcf-ca2a-455d-ea45-7e5a23337c2f"
      },
      "source": [
        "names = ['Banana', 'Coffee', 'Coconut', 'Apple', 'Orange']\n",
        "\n",
        "search = 'Apple'\n",
        "for n in names:\n",
        "    if search == n:\n",
        "        print(search + ' is found in list')\n",
        "        break\n",
        "else:\n",
        "    print('Not found!')\n",
        "\n",
        "search = 'Danny'\n",
        "for n in names:\n",
        "    if search == n:\n",
        "        print(search + ' is found in list')\n",
        "        break\n",
        "else:\n",
        "    print('Not found!')"
      ],
      "execution_count": 51,
      "outputs": [
        {
          "output_type": "stream",
          "text": [
            "Apple is found in list\n",
            "Not found!\n"
          ],
          "name": "stdout"
        }
      ]
    },
    {
      "cell_type": "markdown",
      "metadata": {
        "id": "Zj_SBMDFjFZL",
        "colab_type": "text"
      },
      "source": [
        "## **Function**"
      ]
    },
    {
      "cell_type": "code",
      "metadata": {
        "id": "4wX4pa5jjOT6",
        "colab_type": "code",
        "colab": {}
      },
      "source": [
        ""
      ],
      "execution_count": 0,
      "outputs": []
    },
    {
      "cell_type": "code",
      "metadata": {
        "id": "D-mG8AyFjOi3",
        "colab_type": "code",
        "colab": {}
      },
      "source": [
        ""
      ],
      "execution_count": 0,
      "outputs": []
    },
    {
      "cell_type": "code",
      "metadata": {
        "id": "B0D83WV5jOqv",
        "colab_type": "code",
        "colab": {}
      },
      "source": [
        ""
      ],
      "execution_count": 0,
      "outputs": []
    },
    {
      "cell_type": "code",
      "metadata": {
        "id": "EEaboKR9jO7N",
        "colab_type": "code",
        "colab": {}
      },
      "source": [
        ""
      ],
      "execution_count": 0,
      "outputs": []
    }
  ]
}